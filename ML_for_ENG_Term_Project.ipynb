{
 "cells": [
  {
   "cell_type": "markdown",
   "metadata": {},
   "source": [
    "# ML for ENG: Term Project Phase II\n",
    "\n",
    "<br>\n",
    "\n",
    "$\\textbf{Authors:}$ Soo Min Kwon, Manish Kewalramani, Brian Cheng\n",
    "\n",
    "<br>\n",
    "\n",
    "# Image Dataset: Clustering\n",
    "\n",
    "<br>\n",
    "This part of the Jupyter Notebook is for the $\\textbf{CIFAR-10 Dataset}$ for the task of $\\textbf{clustering}$.\n",
    "\n",
    "Each section of this notebook will have code accompanied by a $\\textit{remark}$ section for reasoning of why and what is done in the codes."
   ]
  },
  {
   "cell_type": "code",
   "execution_count": 193,
   "metadata": {},
   "outputs": [],
   "source": [
    "# importing packages\n",
    "import cv2\n",
    "import time\n",
    "import pickle\n",
    "import numpy as np\n",
    "import matplotlib.pyplot as plt\n",
    "from skimage.color import rgb2gray\n",
    "from sklearn.cluster import KMeans\n",
    "from sklearn import preprocessing as sklpp\n",
    "from sklearn import decomposition as skldecomp"
   ]
  },
  {
   "cell_type": "markdown",
   "metadata": {},
   "source": [
    "Below, we will be loading and reshaping the $\\textbf{CIFAR-10}$ dataset into the format that we need for clustering.\n",
    "\n",
    "<br>\n",
    "\n",
    "## Pre-processing and Loading of Dataset"
   ]
  },
  {
   "cell_type": "code",
   "execution_count": 194,
   "metadata": {},
   "outputs": [
    {
     "data": {
      "image/png": "[encoded data removed]",
      "text/plain": [
       "<Figure size 432x288 with 1 Axes>"
      ]
     },
     "metadata": {
      "needs_background": "light"
     },
     "output_type": "display_data"
    },
    {
     "data": {
      "image/png": "[encoded data removed]",
      "text/plain": [
       "<Figure size 432x288 with 1 Axes>"
      ]
     },
     "metadata": {
      "needs_background": "light"
     },
     "output_type": "display_data"
    },
    {
     "name": "stdout",
     "output_type": "stream",
     "text": [
      "Label Names: [b'airplane', b'automobile', b'bird', b'cat', b'deer', b'dog', b'frog', b'horse', b'ship', b'truck']\n",
      "Shape of Training Data: (50000, 32, 32, 3)\n",
      "Shape of Training Data Labels: (50000, 1)\n",
      "Shape of Testing Data: (10000, 32, 32, 3)\n",
      "Shape of Testing Data Labels: (10000, 1)\n",
      "\n"
     ]
    }
   ],
   "source": [
    "def unpickle(file):\n",
    "    with open(file, 'rb') as fo:\n",
    "        data = pickle.load(fo, encoding='bytes')\n",
    "    return data\n",
    "\n",
    "file_path = 'CIFAR-10 Data'\n",
    "\n",
    "num_files = 5\n",
    "num_samples = 10000\n",
    "num_image_data = 3072\n",
    "image_dim = 32\n",
    "\n",
    "training_data = np.zeros((num_samples*5, num_image_data))\n",
    "training_labels = np.zeros((num_samples*5, 1))\n",
    "training_label_names = []\n",
    "testing_data = np.zeros((num_samples, num_image_data))\n",
    "testing_labels = np.zeros((num_samples, 1))\n",
    "\n",
    "st = 0\n",
    "en = num_samples\n",
    "\n",
    "for num in range(num_files):\n",
    "    # for label names\n",
    "    labels_dictionary = unpickle(file_path + '/batches.meta')\n",
    "    training_label_names = labels_dictionary[b'label_names']\n",
    "    \n",
    "    # for training data\n",
    "    training_data_dictionary = unpickle(file_path + '/data_batch_' + str(num))\n",
    "    train_data_dict = training_data_dictionary[b'data']\n",
    "    train_labels_dict = training_data_dictionary[b'labels']\n",
    "    \n",
    "    train_labels_dict = np.reshape(train_labels_dict, (num_samples, 1))\n",
    "    training_data[st:en, :] = train_data_dict\n",
    "    training_labels[st:en, :] = train_labels_dict\n",
    "    \n",
    "    # for testing data\n",
    "    testing_data_dictionary = unpickle(file_path + '/test_batch')\n",
    "    test_data_dict = testing_data_dictionary[b'data']\n",
    "    test_labels_dict = testing_data_dictionary[b'labels']\n",
    "    \n",
    "    test_labels_dict = np.reshape(test_labels_dict, (num_samples, 1))\n",
    "    testing_data = test_data_dict\n",
    "    testing_labels = test_labels_dict\n",
    "    \n",
    "    st += num_samples\n",
    "    en += num_samples\n",
    "\n",
    "# reshaping data into images\n",
    "cifar_train_data = np.reshape(training_data, (num_samples*5, 3, image_dim, image_dim))\n",
    "cifar_train_data = cifar_train_data.transpose(0, 2, 3, 1).astype(np.float32)\n",
    "\n",
    "cifar_test_data = np.reshape(testing_data, (num_samples, 3, image_dim, image_dim))\n",
    "cifar_test_data = cifar_test_data.transpose(0, 2, 3, 1).astype(np.float32)\n",
    "\n",
    "# printing one training and one testing image and showing shapes of data\n",
    "one_train_image = cifar_train_data[5, :, :, :]\n",
    "one_test_image = cifar_test_data[5, :, :, :]\n",
    "\n",
    "plt.imshow(one_train_image.astype('uint8'))\n",
    "plt.title('First Training Image')\n",
    "plt.show()\n",
    "\n",
    "plt.imshow(one_test_image.astype('uint8'))\n",
    "plt.title('First Testing Image')\n",
    "plt.show()\n",
    "\n",
    "# printing shapes\n",
    "print('Label Names: ' + str(training_label_names))\n",
    "print('Shape of Training Data: ' + str(cifar_train_data.shape))\n",
    "print('Shape of Training Data Labels: ' + str(training_labels.shape))\n",
    "print('Shape of Testing Data: ' + str(cifar_test_data.shape))\n",
    "print('Shape of Testing Data Labels: ' + str(testing_labels.shape) + '\\n')\n"
   ]
  },
  {
   "cell_type": "markdown",
   "metadata": {},
   "source": [
    "$\\textit{Remarks:}$\n",
    "\n",
    "The CIFAR-10 dataset can be downloaded with the following link: http://www.cs.toronto.edu/~kriz/cifar.html\n",
    "\n",
    "After downloading the file with the link provided, the file containing the data has 7 \"pickle\" files. Each pickle file contains a Python Dictionary of elements needed for a ML algorithm. Though clustering is an unsupervised learning method, we can still utilize the labels to observe how well our clustering was performed. For each of the files in the data file:\n",
    "\n",
    "The pickle file labeled \"batches.meta\" has the names of labels for each image. There are 10 different classes of images, so the shape of the array of labels should be 10. The names of labels are printed above. For example, a label of 0 would indicate the class of 'airplane'.\n",
    "\n",
    "The pickle files labeled \"data_batch_0, ..., data_batch_4\" are the files for the training data. We reshape the data into a 4th order tensor with the following axis:\n",
    "(samples, image_dimensions, image_dimensions, RGB 3 channels).\n",
    "\n",
    "The pickle file labeled \"test_batch\" is the file for testing data. We reshape the data into a 4th order tensor with the following axis:\n",
    "(samples, image_dimensions, image_dimensions, RGB 3 channels).\n",
    "\n",
    "$\\textit{Note: }$Since these images are small (32x32), they are not clear when shown.\n",
    "\n",
    "<br>"
   ]
  },
  {
   "cell_type": "markdown",
   "metadata": {},
   "source": [
    "## Feature Learning / Feature Extraction for K-Means\n",
    "\n",
    "Each of our group members will do a different feature extraction method for K-means clustering. The three feature extraction methods that we will be exploring is $\\textbf{Principal Component Analysis (PCA)}$, $\\textbf{Scale-Invariant Feature Tranform (SIFT)}$ (on grayscale images), and $\\textbf{SIFT}$ (on RGB images) with $\\textbf{PCA}$. We decided to do three different feature extraction methods because we realized that doing K-means with Euclidean distance for image clustering was giving unsatisfactory results, and simply changing the distance metrics would have NOT made performance any better. The following blocks of codes is split by author, and labeled by each feature extraction methods used.\n",
    "\n",
    "<br>"
   ]
  },
  {
   "cell_type": "markdown",
   "metadata": {},
   "source": [
    "## K-Means Clustering with PCA\n",
    "\n",
    "<br>\n",
    "\n",
    "$\\textbf{Author: }$ Soo Min Kwon\n",
    "\n",
    "<br>\n",
    "\n",
    "For this feature learning section, we will perform Principal Component Analysis (PCA) to reduce the dimensions of our data. To first perform PCA, we must center our data. Upon centering our data, we verify that it's centered and use the Scikit-Learn package. But before doing PCA, we will make our images grayscale. This is because working with RGB images may get complicated, and must by reshaped perfectly for decent results."
   ]
  },
  {
   "cell_type": "code",
   "execution_count": 195,
   "metadata": {},
   "outputs": [
    {
     "name": "stdout",
     "output_type": "stream",
     "text": [
      "Reshaped Dimensions: (50000, 1024)\n",
      "Verification of Centered Mean: [-6.7456053e-06 -1.3824463e-07 -4.5764159e-06 ...  1.8692016e-07\n",
      " -9.5970154e-06 -8.7265016e-06]\n"
     ]
    }
   ],
   "source": [
    "# mean centering for PCA\n",
    "cifar_gray_train_data = rgb2gray(cifar_train_data)\n",
    "cifar_gray_train_data = np.reshape(cifar_gray_train_data, (num_samples*5, image_dim*image_dim))\n",
    "\n",
    "mean_scaler = sklpp.StandardScaler(with_mean=True, with_std=False)\n",
    "centered_train_data = mean_scaler.fit_transform(cifar_gray_train_data)\n",
    "\n",
    "# verifying if mean was centered correctly\n",
    "means = np.mean(centered_train_data, axis=0)\n",
    "\n",
    "# verifying reshaped dimensions and centered mean\n",
    "print('Reshaped Dimensions: ' + str(centered_train_data.shape))\n",
    "print('Verification of Centered Mean: ' + str(means))"
   ]
  },
  {
   "cell_type": "markdown",
   "metadata": {},
   "source": [
    "In the block of code above, we centered our data for PCA. We were able to verify that the mean was centered correctly using Scikit Learn by printing the means of the centered data.\n",
    "\n",
    "<br>"
   ]
  },
  {
   "cell_type": "code",
   "execution_count": 196,
   "metadata": {},
   "outputs": [
    {
     "name": "stdout",
     "output_type": "stream",
     "text": [
      "Number of PCA Features with 95% Energy Capture: 160\n"
     ]
    }
   ],
   "source": [
    "# performing PCA with 95% energy capture\n",
    "do_PCA = skldecomp.PCA(n_components=0.95, svd_solver='full')\n",
    "cifar_features = do_PCA.fit_transform(centered_train_data)\n",
    "num_pca_features = do_PCA.components_.shape[0]\n",
    "\n",
    "print('Number of PCA Features with 95% Energy Capture: ' + str(num_pca_features))"
   ]
  },
  {
   "cell_type": "markdown",
   "metadata": {},
   "source": [
    "$\\textit{Remarks: }$\n",
    "\n",
    "For the number of principal components to use for PCA, we ran our codes a couple times with different energy captures to see which would be best fit. Amongst our observations, we thought that it would be best suitable to use an energy capture of 95%, as it reduces dimensions significantly and can reconstruct the images upon projection quite well.\n",
    "\n",
    "<br>"
   ]
  },
  {
   "cell_type": "code",
   "execution_count": 197,
   "metadata": {},
   "outputs": [
    {
     "data": {
      "image/png": "[encoded data removed]",
      "text/plain": [
       "<Figure size 432x288 with 1 Axes>"
      ]
     },
     "metadata": {
      "needs_background": "light"
     },
     "output_type": "display_data"
    },
    {
     "data": {
      "image/png": "[encoded data removed]",
      "text/plain": [
       "<Figure size 432x288 with 1 Axes>"
      ]
     },
     "metadata": {
      "needs_background": "light"
     },
     "output_type": "display_data"
    },
    {
     "data": {
      "image/png": "[encoded data removed]",
      "text/plain": [
       "<Figure size 432x288 with 1 Axes>"
      ]
     },
     "metadata": {
      "needs_background": "light"
     },
     "output_type": "display_data"
    },
    {
     "data": {
      "image/png": "[encoded data removed]",
      "text/plain": [
       "<Figure size 432x288 with 1 Axes>"
      ]
     },
     "metadata": {
      "needs_background": "light"
     },
     "output_type": "display_data"
    }
   ],
   "source": [
    "# projecting the features\n",
    "cifar_projected_images = do_PCA.inverse_transform(cifar_features)\n",
    "cifar_projected_images = np.reshape(cifar_projected_images, (num_samples*5, image_dim, image_dim))\n",
    "plt.imshow(cifar_projected_images[5, :, :], cmap='gray')\n",
    "plt.title('PCA Projected Image')\n",
    "plt.show()\n",
    "\n",
    "gray_image = np.reshape(cifar_gray_train_data, (50000, 32, 32))\n",
    "plt.imshow(gray_image[5, :, :], cmap='gray')\n",
    "plt.title('Original Grayscale Image')\n",
    "plt.show()\n",
    "\n",
    "plt.imshow(cifar_projected_images[10, :, :], cmap='gray')\n",
    "plt.title('PCA Projected Image')\n",
    "plt.show()\n",
    "\n",
    "plt.imshow(gray_image[10, :, :], cmap='gray')\n",
    "plt.title('Original Grayscale Image')\n",
    "plt.show()"
   ]
  },
  {
   "cell_type": "markdown",
   "metadata": {},
   "source": [
    "$\\textit{Remarks:}$\n",
    "\n",
    "The first two images are images of a car. The first image is the projected images after using PCA with an energy capture of 95%. The image following that is the original car image before any processing. The same goes for the next two images, which is a picture of a deer.\n",
    "\n",
    "<br>"
   ]
  },
  {
   "cell_type": "markdown",
   "metadata": {},
   "source": [
    "### Performing K-Means Clustering"
   ]
  },
  {
   "cell_type": "code",
   "execution_count": 198,
   "metadata": {},
   "outputs": [
    {
     "name": "stdout",
     "output_type": "stream",
     "text": [
      "Labels from K-Means Using PCA: [9 6 8 ... 8 1 4]\n",
      "Computation Time for K-Means with PCA: 18.391259908676147 seconds\n"
     ]
    }
   ],
   "source": [
    "# performing K-means clustering with 10 clusters\n",
    "start_time_PCA = time.time()\n",
    "\n",
    "kmeans = KMeans(n_clusters=10, random_state=0).fit(cifar_features)\n",
    "\n",
    "end_time_PCA = time.time()\n",
    "\n",
    "elapsed_time_PCA = end_time_PCA - start_time_PCA\n",
    "\n",
    "print('Labels from K-Means Using PCA: ' + str(kmeans.labels_))\n",
    "print('Computation Time for K-Means with PCA: ' + str(elapsed_time_PCA) + ' seconds')"
   ]
  },
  {
   "cell_type": "code",
   "execution_count": 199,
   "metadata": {},
   "outputs": [
    {
     "name": "stdout",
     "output_type": "stream",
     "text": [
      "Dimensions of Data to be Clustered: (50000, 160)\n",
      "Dimensions of Labels from K-Means: (50000,)\n",
      "Dimensions of True Labels: (50000, 1)\n"
     ]
    }
   ],
   "source": [
    "# printing shapes of data for verification\n",
    "print('Dimensions of Data to be Clustered: ' + str(cifar_features.shape))\n",
    "print('Dimensions of Labels from K-Means: ' + str(kmeans.labels_.shape))\n",
    "print('Dimensions of True Labels: ' + str(training_labels.shape))"
   ]
  },
  {
   "cell_type": "markdown",
   "metadata": {},
   "source": [
    "$\\textit{Remarks: }$\n",
    "\n",
    "In the blocks of code above, we verified the dimensions of all of our variables to double check that everything came out correctly. The data that we used for clustering was the one we processed using PCA, with the columns being the number of principal components used.\n",
    "\n",
    "The K-Means algorithm implemented on Scikit-Learn was the one we learned in class, which was the $\\textit{Lloyd's algorithm for Quantization}$. The algorithm initializes 10 clusters randomly, computes the centroid of each cluster, keeps cluster with the smallest Euclidean distance value, and loops until no more changes occur.\n",
    "\n",
    "As for the code, the \"n_clusters\" argument defines the number of clusters to be used. Since we have 10 different classes of images, we use 10 clusters. The \"fit\" followed by the input computes K-means clustering given the data to be clustered. The \"random_state\" determines random number generation for centroid initialization. It is often unnecessary for an input for this arugment. The distance metric that Scikit-Learn uses by default for K-means is the Euclidean distance.\n",
    "\n",
    "For more information: https://scikit-learn.org/stable/modules/generated/sklearn.cluster.KMeans.html\n",
    "\n",
    "<br>"
   ]
  },
  {
   "cell_type": "code",
   "execution_count": 200,
   "metadata": {},
   "outputs": [
    {
     "name": "stdout",
     "output_type": "stream",
     "text": [
      "True Labels:     [[6 9 9 4 1 1 2 7 8 3 4 7 7 2 9 9 9 3 2 6 4 3 6 6 2 6 3 5 4 0 0 9 1 3 4]]\n",
      "Predicted Labels: [9 6 8 3 2 2 6 0 7 2 3 4 4 3 2 1 1 9 4 0 5 3 3 2 2 4 2 3 4 1 6 8 2 9 4]\n"
     ]
    }
   ],
   "source": [
    "# for visualization of true and predicted labels\n",
    "print('True Labels:     ' + str((training_labels[0:35].T).astype(int)))\n",
    "print('Predicted Labels: ' + str(np.asarray(kmeans.labels_[0:35])))"
   ]
  },
  {
   "cell_type": "markdown",
   "metadata": {},
   "source": [
    "$\\textit{Remarks: }$\n",
    "\n",
    "Just to visualize how well K-means clustering performed, we observe and compare the first 35 true and predicted labels. Obviously, the labels shouldn't exactly match. Scikit-Learn does not know how the true labels are indexed. However, if there are patterns in the true labels (e.g. 1, 1, 2, 2) then there should be the same patterns but with different (or same) numbers in the same indices (e.g. 3, 3, 4, 4). For example, in the print statement above, if we look at 5th and 6th indices for both true and predicted labels, we can observe this pattern. \n",
    "\n",
    "$\\textbf{Note:}$ This is just for visualization."
   ]
  },
  {
   "cell_type": "code",
   "execution_count": 201,
   "metadata": {},
   "outputs": [
    {
     "name": "stdout",
     "output_type": "stream",
     "text": [
      "Confusion Matrix with PCA as Features: \n",
      "[[ 240.  387.  410.  698. 1068.  709.  459.  891.  188.  188.]\n",
      " [ 695.  480.  200.  156.  201.  107.   79.  236. 1324.  670.]\n",
      " [ 400.  997.  750.  629.  782.  519.  922.  605.  378.  773.]\n",
      " [ 214.  457.  511.  626.  488.  457.  829.  265.  168.  148.]\n",
      " [ 433.  478.  427.  465.  353.  411.  472.  999.  207.  721.]\n",
      " [ 955.  257.  430.  299.  143.  182.  260.  169.  213.  199.]\n",
      " [ 699.  620.  996.  609.  855.  792.  815.  605.  938.  567.]\n",
      " [ 743.  117.  801.  548.  609.  704.  327.  455.  317.   95.]\n",
      " [ 392.  678.  182.  250.  195.  144.  125.  422.  798. 1488.]\n",
      " [ 229.  529.  293.  720.  306.  975.  712.  353.  469.  151.]]\n"
     ]
    }
   ],
   "source": [
    "# hand-made confusion matrix\n",
    "confusionmatrix = np.zeros((10,10))\n",
    "\n",
    "st = 0\n",
    "en = 1\n",
    "\n",
    "for k in range(50000):\n",
    "    x = int(kmeans.labels_[st:en])\n",
    "    y = int(training_labels[st:en])\n",
    "    confusionmatrix[x][y] += 1\n",
    "    st+=1\n",
    "    en+=1\n",
    "print('Confusion Matrix with PCA as Features: ' + '\\n' + str(confusionmatrix))"
   ]
  },
  {
   "cell_type": "markdown",
   "metadata": {},
   "source": [
    "$\\textit{Remarks: }$\n",
    "\n",
    "Since the label numbers from K-means and the true labels don't directly match, we created a hand-made confusion matrix with the rows being the predicted classes and the columns being the true classes. The way that we created this confusion matrix is that we iterated through both arrays of labels and incremented the confusion matrix in that specific position given the number of labels.\n",
    "\n",
    "$\\textbf{Example:}$\n",
    "\n",
    "Let's say that the predicted class for the first index for K-means labels was 2, and for that same index, the true label was 7. Then, the [7][2] index of the confusion matrix would be incremented by 1. Ideally, we should see a very high number in one element of a column of the confusion matrix, and the rest low numbers in the elements of the same column. "
   ]
  },
  {
   "cell_type": "markdown",
   "metadata": {},
   "source": [
    "## K-Means Clustering with SIFT\n",
    "<br>\n",
    "\n",
    "$\\textbf{Author: }$ Brian Cheng\n",
    "\n",
    "<br>\n",
    "\n",
    "K-Means clustering using the PCA features did not get the results we wanted, and upon reaching out for advice, we decided to take a new approach for our feature learning method, which was to use the vectors from SIFT as features. Scale-Invariant Feature Tranform (SIFT) has 4 steps in its algorithm:\n",
    "\n",
    "1. Scale-Space Extrema Detection\n",
    "\n",
    "We first detect keypoint extremas by running Gaussian and Laplacian filters over the images. This can be computationally intensive because to find larger keypoints in portions of the image, we need larger filter sizes. So instead of using LoG (Laplacian of Gaussian), we use Difference of Gaussian, which is an approximation of LoG.\n",
    "\n",
    "2. Keypoint Localization\n",
    "\n",
    "Once potential keypoints are found, they have to be refined for more accurate results. We use the Taylor series expansion of scale space to get more accurate location of the keypoints, and if the intensity at this extrema is less than a threshold value, it is rejected.\n",
    "\n",
    "3. Orientation Assignment\n",
    "\n",
    "An orientation is assigned to each keypoint to achieve invariance to image rotation.\n",
    "\n",
    "4. Keypoint Descriptor\n",
    "\n",
    "Once the keypoints are oriented, a neighborhood around the keypoints are made.\n",
    "\n",
    "<br>\n",
    "\n",
    "\n",
    "For more details about SIFT on OpenCV: https://opencv-python-tutroals.readthedocs.io/en/latest/py_tutorials/py_feature2d/py_sift_intro/py_sift_intro.html\n",
    "\n",
    "<br>"
   ]
  },
  {
   "cell_type": "code",
   "execution_count": 202,
   "metadata": {},
   "outputs": [],
   "source": [
    "# implmenting SIFT\n",
    "cifar_gray_train_data = np.reshape(cifar_gray_train_data, (num_samples*5, image_dim, image_dim))\n",
    "\n",
    "total_images = num_samples*5\n",
    "target_keypoints = 39\n",
    "dim_vec = 128\n",
    "\n",
    "cifar_sift_features = np.zeros((total_images, target_keypoints, dim_vec))\n",
    "\n",
    "for num in range(total_images):\n",
    "    per_image = cifar_gray_train_data[num, :, :]\n",
    "    gray_image = cv2.normalize(per_image, None, 0, 255, cv2.NORM_MINMAX).astype('uint8')\n",
    "\n",
    "    sift = cv2.xfeatures2d.SIFT_create()\n",
    "    \n",
    "    keypoints, descriptors = sift.detectAndCompute(gray_image, None)\n",
    "    \n",
    "    cifar_sift_features[num, :len(keypoints), :] = cifar_sift_features[num, :len(keypoints), :] + descriptors \n",
    "    "
   ]
  },
  {
   "cell_type": "markdown",
   "metadata": {},
   "source": [
    "$\\textit{Remarks: }$\n",
    "\n",
    "To use SIFT, we used a package implemented on OpenCV. The number of target_keypoints is 39 because that was the maximum number of keypoints given from all the images. If the image had less than 39 keypoints, we zero-padded to match 39 keypoints. Each keypoint had a 128-dimensional vector, so the whole feature matrix for each image had dimensions (39 x 128). We then vectorize these dimensions to fit it into the K-means clustering algorithm using Scikit Learn.\n",
    "\n",
    "For more information on SIFT: https://opencv-python-tutroals.readthedocs.io/en/latest/py_tutorials/py_feature2d/py_sift_intro/py_sift_intro.html"
   ]
  },
  {
   "cell_type": "code",
   "execution_count": 203,
   "metadata": {},
   "outputs": [
    {
     "name": "stdout",
     "output_type": "stream",
     "text": [
      "Dimensions of Vectorized Features: (50000, 4992)\n"
     ]
    }
   ],
   "source": [
    "cifar_sift_features = np.reshape(cifar_sift_features, (total_images, target_keypoints*dim_vec))\n",
    "print('Dimensions of Vectorized Features: ' + str(cifar_sift_features.shape))"
   ]
  },
  {
   "cell_type": "code",
   "execution_count": 204,
   "metadata": {},
   "outputs": [
    {
     "name": "stdout",
     "output_type": "stream",
     "text": [
      "Labels from K-Means Using SIFT: [4 1 2 ... 5 6 7]\n",
      "Computation Time for K-Means with SIFT: 385.67128801345825 seconds\n"
     ]
    }
   ],
   "source": [
    "# using K-means onto new features\n",
    "start_time_sift = time.time()\n",
    "\n",
    "kmeans = KMeans(n_clusters=10, random_state=0).fit(cifar_sift_features)\n",
    "\n",
    "end_time_sift = time.time()\n",
    "\n",
    "elapsed_time_sift = end_time_sift - start_time_sift\n",
    "\n",
    "print('Labels from K-Means Using SIFT: ' + str(kmeans.labels_))\n",
    "print('Computation Time for K-Means with SIFT: ' + str(elapsed_time_sift) + ' seconds')"
   ]
  },
  {
   "cell_type": "code",
   "execution_count": 205,
   "metadata": {},
   "outputs": [
    {
     "name": "stdout",
     "output_type": "stream",
     "text": [
      "True Labels:     [[6 9 9 4 1 1 2 7 8 3 4 7 7 2 9 9 9 3 2 6 4 3 6 6 2 6 3 5 4 0 0 9 1 3 4]]\n",
      "Predicted Labels: [4 1 2 8 8 7 1 2 4 9 2 0 5 8 0 7 2 4 2 0 2 9 6 0 4 0 9 8 7 2 3 5 9 1 9]\n"
     ]
    }
   ],
   "source": [
    "print('True Labels:     ' + str((training_labels[0:35].T).astype(int)))\n",
    "print('Predicted Labels: ' + str(np.asarray(kmeans.labels_[0:35])))"
   ]
  },
  {
   "cell_type": "code",
   "execution_count": 206,
   "metadata": {},
   "outputs": [
    {
     "name": "stdout",
     "output_type": "stream",
     "text": [
      "Confusion Matrix with SIFT as Features: \n",
      "[[ 337.  539.  348.  470.  493.  424.  489.  763.  177.  789.]\n",
      " [ 124.  352.  172.  296.  312.  515.  343.  567.   82.  517.]\n",
      " [ 662.  612.  674.  516.  552.  366.  514.  532.  526.  713.]\n",
      " [1465.  235.  916.  308.  332.  194.  302.  147. 1395.  158.]\n",
      " [ 192.  504.  339.  591.  460.  721.  574.  449.  242.  315.]\n",
      " [ 218.  615.  317.  550.  586.  657.  544.  751.  165.  762.]\n",
      " [ 338.  417.  485.  549.  573.  575.  583.  371.  620.  274.]\n",
      " [1052.  570.  947.  605.  674.  454.  577.  434. 1114.  485.]\n",
      " [ 239.  515.  404.  663.  504.  698.  644.  386.  399.  274.]\n",
      " [ 373.  641.  398.  452.  514.  396.  430.  600.  280.  713.]]\n"
     ]
    }
   ],
   "source": [
    "# hand-made confusion matrix\n",
    "confusionmatrix = np.zeros((10,10))\n",
    "\n",
    "st = 0\n",
    "en = 1\n",
    "\n",
    "for k in range(50000):\n",
    "    x = int(kmeans.labels_[st:en])\n",
    "    y = int(training_labels[st:en])\n",
    "    confusionmatrix[x][y] += 1\n",
    "    st+=1\n",
    "    en+=1\n",
    "    \n",
    "print('Confusion Matrix with SIFT as Features: ' + '\\n' + str(confusionmatrix))"
   ]
  },
  {
   "cell_type": "markdown",
   "metadata": {},
   "source": [
    "$\\textit{Remarks: }$\n",
    "\n",
    "Performing SIFT and using the resulting features for K-means clustering did not work very well. The way that we evaluated the K-means clustering algorithm was the same method that we did for PCA, which was to make a confusion matrix for the predicted and true class labels. "
   ]
  },
  {
   "cell_type": "markdown",
   "metadata": {},
   "source": [
    "\n",
    "<br>"
   ]
  },
  {
   "cell_type": "markdown",
   "metadata": {},
   "source": [
    "## K-Means Clustering with SIFT and PCA\n",
    "\n",
    "<br>\n",
    "\n",
    "$\\textbf{Author: }$ Manish Kewalramani\n",
    "\n",
    "<br>\n",
    "\n",
    "Since both methods (PCA and SIFT) for feature learning did not work very well, our third thought was to compare the computational complexity of SIFT vs. SIFT & PCA. Since the number of features for SIFT was quite large, the K-means clustering algorithm took a long time to finish. If we can get similar results for doing SIFT & PCA and just SIFT, we can conclude that it is better to do SIFT & PCA together, as it significantly reduces computational complexity and outputs similar results. Generally, however, since SIFT did not give satisfactory results, we shouldn't expect good results for SIFT & PCA.\n",
    "\n",
    "<br>"
   ]
  },
  {
   "cell_type": "code",
   "execution_count": 207,
   "metadata": {},
   "outputs": [],
   "source": [
    "# implmenting SIFT\n",
    "total_images = num_samples*5\n",
    "target_keypoints = 39\n",
    "dim_vec = 128\n",
    "\n",
    "cifar_sift_features = np.zeros((total_images, target_keypoints, dim_vec))\n",
    "\n",
    "for num in range(total_images):\n",
    "    per_image = cifar_train_data[num, :, :]\n",
    "    image = cv2.normalize(per_image, None, 0, 255, cv2.NORM_MINMAX).astype('uint8')\n",
    "\n",
    "    sift = cv2.xfeatures2d.SIFT_create()\n",
    "    \n",
    "    keypoints, descriptors = sift.detectAndCompute(image, None)\n",
    "    \n",
    "    cifar_sift_features[num, :len(keypoints), :] = cifar_sift_features[num, :len(keypoints), :] + descriptors "
   ]
  },
  {
   "cell_type": "code",
   "execution_count": 208,
   "metadata": {},
   "outputs": [
    {
     "name": "stdout",
     "output_type": "stream",
     "text": [
      "Dimensions of SIFT Features: (50000, 39, 128)\n"
     ]
    }
   ],
   "source": [
    "print('Dimensions of SIFT Features: ' + str(cifar_sift_features.shape))"
   ]
  },
  {
   "cell_type": "markdown",
   "metadata": {},
   "source": [
    "$\\textit{Remarks: }$\n",
    "\n",
    "SIFT was performed the same way (using OpenCV) as previously done.\n",
    "\n",
    "<br>"
   ]
  },
  {
   "cell_type": "code",
   "execution_count": 209,
   "metadata": {},
   "outputs": [
    {
     "name": "stdout",
     "output_type": "stream",
     "text": [
      "Reshaped Dimensions: (50000, 4992)\n",
      "Verification of Centered Mean: [-4.38627978e-14  2.83759505e-14  2.20421725e-14 ...  0.00000000e+00\n",
      "  0.00000000e+00  0.00000000e+00]\n"
     ]
    }
   ],
   "source": [
    "# PCA on SIFT features\n",
    "cifar_sift_features = np.reshape(cifar_sift_features, (total_images, target_keypoints*dim_vec))\n",
    "mean_scaler = sklpp.StandardScaler(with_mean=True, with_std=False)\n",
    "centered_sift = mean_scaler.fit_transform(cifar_sift_features)\n",
    "\n",
    "# verifying if mean was centered correctly\n",
    "means = np.mean(centered_sift, axis=0)\n",
    "\n",
    "# verifying reshaped dimensions and centered mean\n",
    "print('Reshaped Dimensions: ' + str(centered_sift.shape))\n",
    "print('Verification of Centered Mean: ' + str(means))"
   ]
  },
  {
   "cell_type": "code",
   "execution_count": 210,
   "metadata": {},
   "outputs": [
    {
     "name": "stdout",
     "output_type": "stream",
     "text": [
      "Number of PCA Features with 95% Energy Capture: 1457\n"
     ]
    }
   ],
   "source": [
    "# performing PCA with 95% energy capture\n",
    "do_PCA = skldecomp.PCA(n_components=0.95, svd_solver='full')\n",
    "cifar_features = do_PCA.fit_transform(centered_sift)\n",
    "num_pca_features = do_PCA.components_.shape[0]\n",
    "\n",
    "print('Number of PCA Features with 95% Energy Capture: ' + str(num_pca_features))"
   ]
  },
  {
   "cell_type": "code",
   "execution_count": 211,
   "metadata": {},
   "outputs": [
    {
     "name": "stdout",
     "output_type": "stream",
     "text": [
      "Dimensions before PCA:(50000, 4992)\n",
      "Dimensions after PCA: (50000, 1457)\n"
     ]
    }
   ],
   "source": [
    "print('Dimensions before PCA:' + str(centered_sift.shape))\n",
    "print('Dimensions after PCA: ' + str(cifar_features.shape))"
   ]
  },
  {
   "cell_type": "markdown",
   "metadata": {},
   "source": [
    "$\\textit{Remarks: }$\n",
    "\n",
    "PCA was performed the same way (using Scikit-Learn) as previously done.\n",
    "\n",
    "<br>"
   ]
  },
  {
   "cell_type": "code",
   "execution_count": 212,
   "metadata": {},
   "outputs": [
    {
     "name": "stdout",
     "output_type": "stream",
     "text": [
      "Labels from K-Means Using SIFT & PCA: [6 0 9 ... 0 2 8]\n",
      "Computation Time for K-Means with SIFT & PCA: 114.14728689193726 seconds\n"
     ]
    }
   ],
   "source": [
    "# performing K-means\n",
    "start_time_sift_PCA = time.time()\n",
    "\n",
    "kmeans = KMeans(n_clusters=10, random_state=0).fit(cifar_features)\n",
    "\n",
    "end_time_sift_PCA = time.time()\n",
    "\n",
    "elapsed_time_sift_PCA = end_time_sift_PCA - start_time_sift_PCA\n",
    "\n",
    "print('Labels from K-Means Using SIFT & PCA: ' + str(kmeans.labels_))\n",
    "print('Computation Time for K-Means with SIFT & PCA: ' + str(elapsed_time_sift_PCA) + ' seconds')"
   ]
  },
  {
   "cell_type": "markdown",
   "metadata": {},
   "source": [
    "$\\textit{Remarks: }$\n",
    "\n",
    "K-means was performed the same way (using Scikit-Learn) as previously done.\n",
    "\n",
    "<br>"
   ]
  },
  {
   "cell_type": "code",
   "execution_count": 213,
   "metadata": {},
   "outputs": [
    {
     "name": "stdout",
     "output_type": "stream",
     "text": [
      "True Labels:     [[6 9 9 4 1 1 2 7 8 3 4 7 7 2 9 9 9 3 2 6 4 3 6 6 2 6 3 5 4 0 0 9 1 3 4]]\n",
      "Predicted Labels: [6 0 9 2 2 4 0 4 0 3 6 0 0 6 9 8 5 6 9 2 9 4 1 6 6 5 5 2 8 9 1 7 9 7 5]\n"
     ]
    }
   ],
   "source": [
    "print('True Labels:     ' + str((training_labels[0:35].T).astype(int)))\n",
    "print('Predicted Labels: ' + str(np.asarray(kmeans.labels_[0:35])))"
   ]
  },
  {
   "cell_type": "code",
   "execution_count": 214,
   "metadata": {},
   "outputs": [
    {
     "name": "stdout",
     "output_type": "stream",
     "text": [
      "Confusion Matrix with SIFT as Features: \n",
      "[[ 278.  662.  322.  563.  503.  627.  551.  837.  193.  828.]\n",
      " [1198.  140.  754.  211.  343.  124.  251.   89. 1092.   99.]\n",
      " [ 248.  456.  424.  583.  544.  604.  611.  378.  446.  246.]\n",
      " [ 213.  580.  380.  603.  515.  649.  566.  460.  305.  403.]\n",
      " [ 665.  615.  717.  599.  662.  456.  623.  498.  718.  526.]\n",
      " [ 394.  524.  331.  423.  403.  350.  410.  648.  242.  806.]\n",
      " [ 138.  510.  316.  544.  437.  689.  520.  429.  216.  331.]\n",
      " [ 152.  465.  222.  413.  356.  658.  392.  638.   96.  634.]\n",
      " [1117.  462. 1017.  576.  722.  475.  629.  389. 1273.  373.]\n",
      " [ 597.  586.  517.  485.  515.  368.  447.  634.  419.  754.]]\n"
     ]
    }
   ],
   "source": [
    "# hand-made confusion matrix\n",
    "confusionmatrix = np.zeros((10,10))\n",
    "\n",
    "st = 0\n",
    "en = 1\n",
    "\n",
    "for k in range(50000):\n",
    "    x = int(kmeans.labels_[st:en])\n",
    "    y = int(training_labels[st:en])\n",
    "    confusionmatrix[x][y] += 1\n",
    "    st+=1\n",
    "    en+=1\n",
    "    \n",
    "print('Confusion Matrix with SIFT as Features: ' + '\\n' + str(confusionmatrix))"
   ]
  },
  {
   "cell_type": "markdown",
   "metadata": {},
   "source": [
    "$\\textit{Remarks: }$\n",
    "\n",
    "Evaluation of K-means was performed the same way (using hand-made confusion matrix) as previously done.\n",
    "\n",
    "Since we still get unsatisfactory results, but the computation time was much faster, we can conclude that it is better to do SIFT & PCA than just SIFT.\n",
    "\n",
    "<br>"
   ]
  },
  {
   "cell_type": "markdown",
   "metadata": {},
   "source": [
    "$\\textbf{Final Remarks: }$\n",
    "\n",
    "Performing PCA, SIFT, and SIFT & PCA were not satisfactory for image clustering. Some future works can circle around exploring different feature learning methods on different images. We tried to do SURF and ORB on our dataset, but the image resolution was too poor to perform these feature methods.\n",
    "\n",
    "Computation Time for K-Means with PCA: 18.3913 seconds\n",
    "\n",
    "Computation Time for K-Means with SIFT: 385.671 seconds\n",
    "\n",
    "Computation Time for K-Means with SIFT & PCA: 114.147 seconds\n",
    "\n",
    "<br>\n",
    "\n",
    "Above are the computation times for the K-means clustering algorithm without overhead. \n",
    "\n",
    "For production, our recommendation would be to NOT do clustering with images. However, if we had to choose a feature learning method for clustering with images, we would say to do PCA, as it takes the least computation time and achieves similar (bad) results. \n",
    "\n",
    "<br>\n",
    "\n",
    "<br>"
   ]
  },
  {
   "cell_type": "markdown",
   "metadata": {},
   "source": [
    "# Audio Dataset: Classification\n",
    "\n",
    "<br>\n",
    "This part of the Jupyter Notebook is for the $\\textbf{Google Audioset Dataset}$ for the task of $\\textbf{classification}$.\n",
    "\n",
    "The machine learning objective is binary classification of either human speech or other sound (not human speech).\n",
    "\n",
    "Each section of this notebook will have code accompanied by a $\\textit{remark}$ section for reasoning of why and what is done in the codes.\n",
    "\n",
    "<br>\n",
    "\n",
    "Below, we will be loading and reshaping the $\\textbf{Google Audioset}$ dataset into the format that we need for classification.\n",
    "\n",
    "<br>\n",
    "\n",
    "## Pre-processing and Loading of Dataset"
   ]
  },
  {
   "cell_type": "code",
   "execution_count": 1,
   "metadata": {},
   "outputs": [],
   "source": [
    "# importing packages\n",
    "import h5py\n",
    "import numpy as np\n",
    "from sklearn.svm import SVC\n",
    "import time\n",
    "from sklearn.model_selection import cross_val_score\n",
    "from sklearn.discriminant_analysis import LinearDiscriminantAnalysis\n",
    "from sklearn.discriminant_analysis import QuadraticDiscriminantAnalysis"
   ]
  },
  {
   "cell_type": "code",
   "execution_count": 2,
   "metadata": {},
   "outputs": [],
   "source": [
    "# importing data\n",
    "hdf5_path = 'bal_train.h5'\n",
    "\n",
    "def load_data(hdf5_path):\n",
    "    with h5py.File(hdf5_path, 'r') as hf:\n",
    "        x = hf.get('x')\n",
    "        y = hf.get('y')\n",
    "        video_id_list = hf.get('video_id_list')\n",
    "        x = np.array(x)\n",
    "        y = list(y)\n",
    "        video_id_list = list(video_id_list)\n",
    "        \n",
    "    return x, y, video_id_list\n",
    "\n",
    "def uint8_to_float32(x):\n",
    "    return (np.float32(x) - 128.) / 128.\n",
    "    \n",
    "def bool_to_float32(y):\n",
    "    return np.float32(y)\n",
    "\n",
    "(x, y, video_id_list) = load_data(hdf5_path)\n",
    "x = uint8_to_float32(x)\n",
    "y = bool_to_float32(y) "
   ]
  },
  {
   "cell_type": "markdown",
   "metadata": {},
   "source": [
    "$\\textit{Remarks: }$\n",
    "\n",
    "The above cell was used to load the training data of feature vectors into workable numpy arrays. The dataset is audio samples from 10 second youtube clips with 128 dimensional feature vectors sampled at 1 Hz. The data was downloaded preprocessed from the Google Audioset Website. The preprocessing steps that they took were the following:\n",
    "\n",
    "- Instead of raw audio, every example is made available as a sequence of 128-dimension embeddings (one embedding for every second of audio). The embeddings were obtained after passing the log-scaled mel-spectrograms of the audio waveform through a deep convolutional neural network trained on millions of audio clips (VGGish). \n",
    "\n",
    "Link for VGGish: https://resources.wolframcloud.com/NeuralNetRepository/resources/VGGish-Feature-Extractor-Trained-on-YouTube-Data\n",
    "\n",
    "<br>"
   ]
  },
  {
   "cell_type": "code",
   "execution_count": 3,
   "metadata": {},
   "outputs": [
    {
     "name": "stdout",
     "output_type": "stream",
     "text": [
      "Dimensions of Data: (22160, 10, 128)\n",
      "Dimensions of Labels: (22160, 527)\n"
     ]
    }
   ],
   "source": [
    "print('Dimensions of Data: ' + str(x.shape))\n",
    "print('Dimensions of Labels: ' + str(y.shape))"
   ]
  },
  {
   "cell_type": "markdown",
   "metadata": {},
   "source": [
    "$\\textit{Remarks: }$\n",
    "\n",
    "Since the each audio clip was 10 seconds long in total and our 128 dimensional feature vectors were extracted from samples taken at 1 Hz, the dimensions of our data is 22160 (total number of samples) $\\times$ 10 (total number of seconds in an audio clip) $\\times$ 1 Hz (sampling rate) $\\times$ 128 (feature vector size). \n",
    "\n",
    "The labels were originally \"one-hot\" encoded, so the dimensions of each label are 527, for the number of different classes in the dataset."
   ]
  },
  {
   "cell_type": "code",
   "execution_count": 4,
   "metadata": {},
   "outputs": [
    {
     "name": "stdout",
     "output_type": "stream",
     "text": [
      "Shape of New Labels for Each Audio Clip: (22160,)\n",
      "Total of Human Speech in Dataset: 5735\n",
      "New Labels: [0. 1. 0. ... 1. 0. 0.]\n"
     ]
    }
   ],
   "source": [
    "# changing one-hot encoding\n",
    "newlabels = np.zeros((22160))\n",
    "counter = 0\n",
    "for i in range(y.shape[0]):\n",
    "    if y[i][0] == 1:\n",
    "        newlabels[i] = 1\n",
    "        counter += 1\n",
    "    \n",
    "# label of 1 indicates human speech, label of 0 indicates not human speech\n",
    "print('Shape of New Labels for Each Audio Clip: ' + str(newlabels.shape))\n",
    "print('Total of Human Speech in Dataset: ' + str(counter))\n",
    "print('New Labels: ' + str(newlabels))"
   ]
  },
  {
   "cell_type": "markdown",
   "metadata": {},
   "source": [
    "$\\textit{Remarks: }$\n",
    "\n",
    "In the cell above, we changed all the \"one-hot\" encoded labels into labels of 0 or 1. A label of 1 means that the audio clip is human speech and a label of 0 means not human speech. We can verify that the labels were correctly translated, as the new labels are now either 0 or 1 in the print statement above.\n",
    "\n",
    "From the whole dataset, there is a total of 5735 audio clips that are labeled as human speech. We were able to determine this number from a .csv file that had all the audio clips labeled.\n",
    "\n",
    "Below, we reshape our data into vectors to fit into our classifiers."
   ]
  },
  {
   "cell_type": "code",
   "execution_count": 5,
   "metadata": {},
   "outputs": [
    {
     "name": "stdout",
     "output_type": "stream",
     "text": [
      "Dimensions of Reshaped Data: (22160, 1280)\n"
     ]
    }
   ],
   "source": [
    "# reshaping into vectors\n",
    "sample_size = x.shape[0]\n",
    "seconds = 10\n",
    "samp_freq = 128\n",
    "xvectors = np.reshape(x, (sample_size, seconds*samp_freq))\n",
    "print('Dimensions of Reshaped Data: ' + str(xvectors.shape))"
   ]
  },
  {
   "cell_type": "code",
   "execution_count": 41,
   "metadata": {},
   "outputs": [],
   "source": [
    "# testing SVM with a different dataset\n",
    "hdf5_path = 'eval.h5'\n",
    "\n",
    "(xtest, ytest, video_id_list) = load_data(hdf5_path)\n",
    "xtest = uint8_to_float32(xtest)\n",
    "ytest = bool_to_float32(ytest)   "
   ]
  },
  {
   "cell_type": "code",
   "execution_count": 42,
   "metadata": {},
   "outputs": [
    {
     "name": "stdout",
     "output_type": "stream",
     "text": [
      "Dimensions of Test Data: (20371, 10, 128)\n",
      "Dimensions of Test Labels: (20371, 527)\n"
     ]
    }
   ],
   "source": [
    "print('Dimensions of Test Data: ' + str(xtest.shape))\n",
    "print('Dimensions of Test Labels: ' + str(ytest.shape))"
   ]
  },
  {
   "cell_type": "code",
   "execution_count": 43,
   "metadata": {},
   "outputs": [
    {
     "name": "stdout",
     "output_type": "stream",
     "text": [
      "Dimensions of New Labels: (20371,)\n",
      "Total of Human Speech in Dataset: 5324\n"
     ]
    }
   ],
   "source": [
    "# changing labels and counting number of human speech data\n",
    "sample_size = xtest.shape[0]\n",
    "newlabelsTest = np.zeros((sample_size))\n",
    "countertest = 0\n",
    "for i in range(ytest.shape[0]):\n",
    "    if ytest[i][0] == 1:\n",
    "        newlabelsTest[i] = 1\n",
    "        countertest += 1\n",
    "    \n",
    "#label of 1 indicates human speech, label of 0 indicates not human speech\n",
    "print('Dimensions of New Labels: ' + str(newlabelsTest.shape))\n",
    "print('Total of Human Speech in Dataset: ' + str(countertest))"
   ]
  },
  {
   "cell_type": "code",
   "execution_count": 45,
   "metadata": {},
   "outputs": [],
   "source": [
    "# vectorizing data for predictions\n",
    "xvectorstest = np.reshape(xtest,(sample_size, seconds*samp_freq))"
   ]
  },
  {
   "cell_type": "markdown",
   "metadata": {},
   "source": [
    "$\\textit{Remarks: }$\n",
    "\n",
    "To test our SVM model, we loaded another dataset 'eval.h5' and tested the accuracy, precision, recall, and F1-score. The pre-processing of this new dataset was the same as what we did for training, where we take the one-hot encoded labels and convert them into binary labels of 0 and 1. We vectorize these below and test the accuracy of our SVM model."
   ]
  },
  {
   "cell_type": "markdown",
   "metadata": {},
   "source": [
    "## Classification with Support Vector Machines (SVM)\n",
    "\n",
    "<br>\n",
    "\n",
    "$\\textbf{Author: }$ Manish Kewalramani\n",
    "\n",
    "<br>\n",
    "\n",
    "For the first binary classification task, we will implement SVM with Scikit-Learn.\n",
    "\n",
    "As we know, SVM tries to find a hyperplane using a hinge loss function. We assume our data is not completely separable, so we use soft-margin SVM and try to find the hyperplane that makes the least margin violations.\n",
    "\n",
    "For more information on SVM for Scikit-Learn: https://scikit-learn.org/stable/modules/svm.html"
   ]
  },
  {
   "cell_type": "code",
   "execution_count": 6,
   "metadata": {},
   "outputs": [],
   "source": [
    "# timing and using SVM\n",
    "StartTimeSVM = time.time()\n",
    "\n",
    "clf = SVC(gamma='auto')\n",
    "clf.fit(xvectors, newlabels)\n",
    "\n",
    "endTimeSVM = time.time()"
   ]
  },
  {
   "cell_type": "markdown",
   "metadata": {},
   "source": [
    "$\\textit{Remarks: }$\n",
    "\n",
    "We use SVM using Sci-kit Learn.\n",
    "\n",
    "The \"SVC\" is what loads the SVC (Support Vector Classifier) function for SVM. When we call \"clf.fit\", we are fitting our training data and labels for classification. The \"gamma='auto'\" is for choosing the penalty parameter for the regularizer in the SVM optimization formula. Once everything is ran and computed, we record the computation time."
   ]
  },
  {
   "cell_type": "code",
   "execution_count": 7,
   "metadata": {},
   "outputs": [
    {
     "name": "stdout",
     "output_type": "stream",
     "text": [
      "Computation Time for SVM: 386.64436316490173 seconds\n"
     ]
    }
   ],
   "source": [
    "total_time = endTimeSVM - StartTimeSVM\n",
    "print('Computation Time for SVM: ' + str(total_time) + ' seconds')"
   ]
  },
  {
   "cell_type": "code",
   "execution_count": 8,
   "metadata": {},
   "outputs": [],
   "source": [
    "# K-fold cross validation with K=5\n",
    "StartTimeSVMCV = time.time()\n",
    "\n",
    "scores = cross_val_score(clf, xvectors, newlabels, cv=5)\n",
    "\n",
    "EndTimeSVMCV = time.time()"
   ]
  },
  {
   "cell_type": "code",
   "execution_count": 9,
   "metadata": {},
   "outputs": [
    {
     "name": "stdout",
     "output_type": "stream",
     "text": [
      "Computation Time for 5-Fold Cross Validation: 1488.1157908439636\n",
      "Total Computation Time for SVM and 5-CV: 1874.7601540088654\n"
     ]
    }
   ],
   "source": [
    "elapsed_time = EndTimeSVMCV - StartTimeSVMCV\n",
    "print('Computation Time for 5-Fold Cross Validation: ' + str(elapsed_time))\n",
    "print('Total Computation Time for SVM and 5-CV: ' + str(total_time + elapsed_time))"
   ]
  },
  {
   "cell_type": "code",
   "execution_count": 21,
   "metadata": {},
   "outputs": [
    {
     "name": "stdout",
     "output_type": "stream",
     "text": [
      "Scores from 5-Fold Cross Validation: [0.81430505 0.81407942 0.81701264 0.816787   0.81159747]\n",
      "Average Score on the Cross Validation: 0.8147563176895307\n"
     ]
    }
   ],
   "source": [
    "print('Scores from 5-Fold Cross Validation: ' + str(scores))\n",
    "print('Average Score on the Cross Validation: ' + str(np.mean(scores)))"
   ]
  },
  {
   "cell_type": "markdown",
   "metadata": {},
   "source": [
    "$\\textit{Remarks: }$\n",
    "\n",
    "Just looking at the accuracy of each cross validation run, it seems our classifier is at least better than a coin flip. All of the cross validation runs seem to be close to each other, indicating that the model did not overfit to a subsection of the dataset or something weird like that.\n",
    " \n",
    "<br>\n",
    " "
   ]
  },
  {
   "cell_type": "code",
   "execution_count": 44,
   "metadata": {},
   "outputs": [],
   "source": [
    "# making predictions to new dataset\n",
    "predictions = clf.predict(xvectorstest)"
   ]
  },
  {
   "cell_type": "code",
   "execution_count": 29,
   "metadata": {},
   "outputs": [
    {
     "name": "stdout",
     "output_type": "stream",
     "text": [
      "Total Number of Errors: 3778\n",
      "Accuracy Rate from Test Dataset: 0.8145402778459575\n",
      "\n",
      "Recall: 0.5379413974455297\n",
      "Precision: 0.6848397895743663\n",
      "F-Score: 0.6025667999158426\n"
     ]
    }
   ],
   "source": [
    "# comparing errors\n",
    "TP = 0\n",
    "TN = 0\n",
    "FP = 0\n",
    "FN = 0\n",
    "for i in range(len(newlabelsTest)):\n",
    "    if predictions[i] == newlabelsTest[i]:\n",
    "        if predictions[i] == 1:\n",
    "            TP +=1\n",
    "        else:\n",
    "            TN += 1\n",
    "    else:\n",
    "        if predictions[i] == 1:\n",
    "            FP += 1\n",
    "        else:\n",
    "            FN += 1\n",
    "\n",
    "        \n",
    "# printing the total number or errors\n",
    "print('Total Number of Errors: ' + str(numerrors))\n",
    "print('Accuracy Rate from Test Dataset: ' + str(1-numerrors/len(newlabelsTest)) + '\\n')\n",
    "\n",
    "recall = TP/(TP+FN)\n",
    "precision = TP/(TP+FP)\n",
    "print('Recall: ' + str(recall))\n",
    "print('Precision: ' + str(precision))\n",
    "print('F-Score: ' + str(2/((1/recall)+(1/precision))))"
   ]
  },
  {
   "cell_type": "markdown",
   "metadata": {},
   "source": [
    "$\\textit{Remarks:}$\n",
    "\n",
    "Our recall, precision, and F1-Score indicate that our model is better than a coin flip. From our test set, our accuracy was $81.45\\%.$\n",
    "\n",
    "<br>"
   ]
  },
  {
   "cell_type": "markdown",
   "metadata": {},
   "source": [
    "## Classification with Linear Discriminant Analysis (LDA)\n",
    "\n",
    "<br>\n",
    "\n",
    "$\\textbf{Author:}$ Brian Cheng\n",
    "\n",
    "<br>\n",
    "\n",
    "For the second binary classification task, we will implement LDA with Scikit-Learn.\n",
    "\n",
    "As we know, LDA tries to find a hyperplane with a closed-form solution. LDA assumes all the conditional probabilities are Gaussian, and that the variance between classes is the same.\n",
    "\n",
    "For more information on LDA for Scikit-Learn: https://scikit-learn.org/stable/modules/generated/sklearn.discriminant_analysis.LinearDiscriminantAnalysis.html\n",
    "\n",
    "<br>"
   ]
  },
  {
   "cell_type": "code",
   "execution_count": 30,
   "metadata": {},
   "outputs": [],
   "source": [
    "# setting up the LDA\n",
    "LDAstartTime = time.time()\n",
    "\n",
    "clf = LinearDiscriminantAnalysis()\n",
    "clf.fit(xvectors, newlabels)\n",
    "\n",
    "LDAendTime = time.time()"
   ]
  },
  {
   "cell_type": "code",
   "execution_count": 32,
   "metadata": {},
   "outputs": [
    {
     "name": "stdout",
     "output_type": "stream",
     "text": [
      "LDA Computation Time: 5.15930700302124 seconds\n"
     ]
    }
   ],
   "source": [
    "LDA_time = LDAendTime - LDAstartTime\n",
    "print(\"LDA Computation Time: \" + str(LDA_time) + \" seconds\")"
   ]
  },
  {
   "cell_type": "code",
   "execution_count": 33,
   "metadata": {},
   "outputs": [],
   "source": [
    "# doing cross validation\n",
    "StartTimeLDACV = time.time()\n",
    "\n",
    "scores = cross_val_score(clf, xvectors, newlabels, cv=5)\n",
    "\n",
    "EndTimeLDACV = time.time()"
   ]
  },
  {
   "cell_type": "markdown",
   "metadata": {},
   "source": [
    "$\\textit{Remarks: }$\n",
    "\n",
    "For LDA, we recorded the time it took to train and the time it took to complete the 5-fold cross validation. The code to run LDA was similar to that of SVM (explained earlier), where \"clf.fit\" calls the training data and labels to be used to compute the parameters of our hyperplane. We then performed 5-fold CV using Scikit-Learn.\n",
    "\n",
    "<br>"
   ]
  },
  {
   "cell_type": "code",
   "execution_count": 48,
   "metadata": {},
   "outputs": [
    {
     "name": "stdout",
     "output_type": "stream",
     "text": [
      "LDA 5-Fold Cross Validation: 20.305153131484985 seconds\n",
      "LDA Total Time for Training and CV: 25.464460134506226 seconds\n",
      "\n",
      "LDA Cross Validation Scores: [0.80482852 0.80888989 0.81069495 0.81227437 0.80708484]\n",
      "Average Score on Cross Validation for LDA: 0.808754512635379\n"
     ]
    }
   ],
   "source": [
    "LDA_CV_time = EndTimeLDACV - StartTimeLDACV\n",
    "total_LDA_time = LDA_time + LDA_CV_time\n",
    "print(\"LDA 5-Fold Cross Validation: \" + str(LDA_CV_time) + \" seconds\")\n",
    "print(\"LDA Total Time for Training and CV: \" + str(total_LDA_time) + \" seconds\" + '\\n')\n",
    "\n",
    "print('LDA Cross Validation Scores: ' + str(scores))\n",
    "print(\"Average Score on Cross Validation for LDA: \" + str(np.mean(scores)))"
   ]
  },
  {
   "cell_type": "code",
   "execution_count": 49,
   "metadata": {},
   "outputs": [],
   "source": [
    "predictions = clf.predict(xvectorstest)\n",
    "numerrors = 0\n",
    "for i in range(len(newlabelsTest)):\n",
    "    if predictions[i] != newlabelsTest[i]:\n",
    "        numerrors += 1"
   ]
  },
  {
   "cell_type": "code",
   "execution_count": 50,
   "metadata": {},
   "outputs": [
    {
     "name": "stdout",
     "output_type": "stream",
     "text": [
      "Total Number of Errors: 3897\n",
      "Accuracy Rate from Test Dataset: 0.8086986402238476\n",
      "\n",
      "Recall: 0.5601051840721262\n",
      "Precision: 0.6572625082653736\n",
      "F-Score: 0.6048068147246729\n"
     ]
    }
   ],
   "source": [
    "# comparing errors\n",
    "TP = 0\n",
    "TN = 0\n",
    "FP = 0\n",
    "FN = 0\n",
    "for i in range(len(newlabelsTest)):\n",
    "    if predictions[i] == newlabelsTest[i]:\n",
    "        if predictions[i] == 1:\n",
    "            TP +=1\n",
    "        else:\n",
    "            TN += 1\n",
    "    else:\n",
    "        if predictions[i] == 1:\n",
    "            FP += 1\n",
    "        else:\n",
    "            FN += 1\n",
    "\n",
    "        \n",
    "# printing the total number or errors\n",
    "print('Total Number of Errors: ' + str(numerrors))\n",
    "print('Accuracy Rate from Test Dataset: ' + str(1-numerrors/len(newlabelsTest)) + '\\n')\n",
    "\n",
    "recall = TP/(TP+FN)\n",
    "precision = TP/(TP+FP)\n",
    "print('Recall: ' + str(recall))\n",
    "print('Precision: ' + str(precision))\n",
    "print('F-Score: ' + str(2/((1/recall)+(1/precision))))"
   ]
  },
  {
   "cell_type": "markdown",
   "metadata": {},
   "source": [
    "$\\textit{Remarks: }$\n",
    "\n",
    "Running LDA took a total computation time of approximately 25.46 seconds, which is significantly faster than the time it took to run SVM. The reason that LDA was faster was because LDA has a closed-form solution, whereas the hyperplane parameters for SVM are computed using optimization tools. We can see that our F1-score and accuracy rate was about the same as the results from SVM, but since LDA was much faster, we can conclude that LDA is a more efficient algorithm to use in this case.\n",
    "\n",
    "<br>"
   ]
  },
  {
   "cell_type": "markdown",
   "metadata": {},
   "source": [
    "## Classification Using Quadratic Discriminant Analysis (QDA)\n",
    "\n",
    "<br>\n",
    "\n",
    "$\\textbf{Author:}$ Soo Min Kwon\n",
    "\n",
    "<br>\n",
    "\n",
    "For the third binary classification task, we will implement QDA with Scikit-Learn.\n",
    "\n",
    "As we know, QDA tries to find a hyperplane with a closed-form solution. QDA assumes all the conditional probabilities are Gaussian, and that the variance between classes is the $\\textit{different}$.\n",
    "\n",
    "For more information on QDA for Scikit-Learn: https://scikit-learn.org/0.16/modules/generated/sklearn.qda.QDA.html"
   ]
  },
  {
   "cell_type": "code",
   "execution_count": 51,
   "metadata": {},
   "outputs": [],
   "source": [
    "# setting up QDA\n",
    "QDAstartTime = time.time()\n",
    "\n",
    "clf = clf = QuadraticDiscriminantAnalysis()\n",
    "clf.fit(xvectors, newlabels)\n",
    "\n",
    "QDAendTime = time.time()"
   ]
  },
  {
   "cell_type": "code",
   "execution_count": 52,
   "metadata": {},
   "outputs": [
    {
     "name": "stdout",
     "output_type": "stream",
     "text": [
      "QDA Computation Time: 2.9495460987091064 seconds\n"
     ]
    }
   ],
   "source": [
    "QDA_train_time = QDAendTime - QDAstartTime\n",
    "print(\"QDA Computation Time: \" + str(QDA_train_time) + \" seconds\")"
   ]
  },
  {
   "cell_type": "code",
   "execution_count": 53,
   "metadata": {},
   "outputs": [],
   "source": [
    "# performing 5 fold CV\n",
    "StartTimeQDACV = time.time()\n",
    "\n",
    "scores = cross_val_score(clf, xvectors, newlabels, cv=5)\n",
    "\n",
    "EndTimeQDACV = time.time()"
   ]
  },
  {
   "cell_type": "markdown",
   "metadata": {},
   "source": [
    "$\\textit{Remarks: }$\n",
    "\n",
    "For QDA, similar to LDA, we recorded the time it took to train and the time it took to complete the 5-fold cross validation. The code to run QDA was similar to that of SVM and LDA (explained earlier), where \"clf.fit\" calls the training data and labels to be used to compute the parameters of our hyperplane. We then performed 5-fold CV using Scikit-Learn. The times to run the training and cross validation are shown in the furthering slides.\n",
    "\n",
    "<br>"
   ]
  },
  {
   "cell_type": "code",
   "execution_count": 59,
   "metadata": {},
   "outputs": [
    {
     "name": "stdout",
     "output_type": "stream",
     "text": [
      "QDA 5-Fold Cross Validation ran in 13.996774911880493 seconds\n",
      "Total Time for QDA with Training and CV: 16.9463210105896 seconds\n",
      "\n",
      "Scores for Cross Validation for QDA: [0.79670578 0.80415162 0.80144404 0.80279783 0.79354693]\n",
      "Average Score for Cross Validation for QDA: 0.7997292418772564\n"
     ]
    }
   ],
   "source": [
    "QDA_CV_times = EndTimeQDACV - StartTimeQDACV\n",
    "total_QDA_time = QDA_train_time + QDA_CV_times\n",
    "accuracy_rate = 1-numerrors/len(newlabelsTest)\n",
    "\n",
    "print('QDA 5-Fold Cross Validation ran in ' + str(QDA_CV_times) + ' seconds')\n",
    "print('Total Time for QDA with Training and CV: ' + str(total_QDA_time) + ' seconds' + '\\n')\n",
    "\n",
    "print('Scores for Cross Validation for QDA: ' + str(scores))\n",
    "print(\"Average Score for Cross Validation for QDA: \" + str(np.mean(scores)))\n"
   ]
  },
  {
   "cell_type": "code",
   "execution_count": 60,
   "metadata": {},
   "outputs": [],
   "source": [
    "predictions = clf.predict(xvectorstest)\n",
    "numerrors = 0\n",
    "for i in range(len(newlabelsTest)):\n",
    "    if predictions[i] != newlabelsTest[i]:\n",
    "        numerrors += 1"
   ]
  },
  {
   "cell_type": "code",
   "execution_count": 62,
   "metadata": {},
   "outputs": [
    {
     "name": "stdout",
     "output_type": "stream",
     "text": [
      "Total Number of Errors from Testing: 4190\n",
      "Accuracy Rate from Test Dataset for QDA: 0.794315448431594\n",
      "\n",
      "Recall: 0.5879038317054845\n",
      "Precision: 0.610612563402263\n",
      "F-Score: 0.5990430622009569\n"
     ]
    }
   ],
   "source": [
    "# comparing errors\n",
    "TP = 0\n",
    "TN = 0\n",
    "FP = 0\n",
    "FN = 0\n",
    "for i in range(len(newlabelsTest)):\n",
    "    if predictions[i] == newlabelsTest[i]:\n",
    "        if predictions[i] == 1:\n",
    "            TP +=1\n",
    "        else:\n",
    "            TN += 1\n",
    "    else:\n",
    "        if predictions[i] == 1:\n",
    "            FP += 1\n",
    "        else:\n",
    "            FN += 1\n",
    "\n",
    "        \n",
    "# printing the total number or errors\n",
    "print('Total Number of Errors from Testing: ' + str(numerrors))\n",
    "print('Accuracy Rate from Test Dataset for QDA: ' + str(1-numerrors/len(newlabelsTest)) + '\\n')\n",
    "\n",
    "recall = TP/(TP+FN)\n",
    "precision = TP/(TP+FP)\n",
    "print('Recall: ' + str(recall))\n",
    "print('Precision: ' + str(precision))\n",
    "print('F-Score: ' + str(2/((1/recall)+(1/precision))))"
   ]
  },
  {
   "cell_type": "markdown",
   "metadata": {},
   "source": [
    "$\\textit{Remarks: }$\n",
    "\n",
    "Running QDA took a total of approximately 16.94 seconds, and of course we can expect QDA to be faster than SVM because it has a closed form solution. Like said previously, SVM takes longer because we have to use optimization tools (like Gradient Descent) to find the parameters for the hyperplane. From the values printed above, we have an F-score that is lower than SVM and LDA, and an accuracy that is lower than SVM and LDA as well. The time to find the parameters for QDA was faster than LDA, but since it was not significant, we can conclude that LDA for this dataset is better than QDA. \n",
    "\n",
    "<br>"
   ]
  },
  {
   "cell_type": "markdown",
   "metadata": {},
   "source": [
    "$\\textbf{Final Remarks:}$\n",
    "\n",
    "In future works, we can try different feature extraction methods to test using the same classification methods that we used in this Jupyter notebook. For all three methods that we implemented, the test accuracy was approximately $80\\%$, but the F1-Score $(~60\\%)$ was only slightly better than a coinflip $(50\\%)$. The following are the total computation times (training + cross validation):\n",
    "\n",
    "Computation Time for SVM: 1874.76 seconds\n",
    "\n",
    "Computation Time for LDA: 25.465 seconds\n",
    "\n",
    "Computation time for QDA: 16.946 seconds\n",
    "\n",
    "\n",
    "Even though QDA was slightly faster than LDA, for production, we should recommend LDA, as it got better accuracy on the test data and a better F1-score. However, if the data were to get even larger, then it is possible that QDA might out-perform LDA, given time constraints and similar results.\n",
    "\n",
    "<br>\n",
    "\n",
    "<br>"
   ]
  },
  {
   "cell_type": "markdown",
   "metadata": {},
   "source": [
    "# Text Dataset: Classification\n",
    "\n",
    "<br>\n",
    "This part of the Jupyter Notebook is for the $\\textbf{IMDB Text Dataset}$ for the task of $\\textbf{classification}$.\n",
    "\n",
    "The machine learning objective is binary classification of either positive movie review or negative movie review.\n",
    "\n",
    "Each section of this notebook will have code accompanied by a $\\textit{remark}$ section for reasoning of why and what is done in the codes.\n",
    "\n",
    "<br>\n",
    "\n",
    "Below, we will be loading and reshaping the $\\textbf{IMDB Text Dataset}$ into the format that we need for classification.\n",
    "\n",
    "<br>\n",
    "\n",
    "## Pre-processing and Loading of Dataset"
   ]
  },
  {
   "cell_type": "code",
   "execution_count": 64,
   "metadata": {},
   "outputs": [],
   "source": [
    "# loading the libraries\n",
    "import numpy as np\n",
    "import pandas as pd\n",
    "import matplotlib.pyplot as plt\n",
    "import os\n",
    "from sklearn.feature_extraction.text import CountVectorizer\n",
    "from sklearn.decomposition import TruncatedSVD\n",
    "from sklearn.preprocessing import StandardScaler\n",
    "from sklearn.naive_bayes import GaussianNB\n",
    "from sklearn.model_selection import cross_val_score\n",
    "import time\n",
    "from sklearn.discriminant_analysis import LinearDiscriminantAnalysis as LDA\n",
    "from sklearn.discriminant_analysis import QuadraticDiscriminantAnalysis as QDA"
   ]
  },
  {
   "cell_type": "code",
   "execution_count": 67,
   "metadata": {},
   "outputs": [
    {
     "name": "stdout",
     "output_type": "stream",
     "text": [
      "Dimensions of Dataset: (50000, 2)\n"
     ]
    }
   ],
   "source": [
    "# printing the data\n",
    "imdb_data = pd.read_csv(\"IMDB_Dataset.csv\")\n",
    "print('Dimensions of Dataset: ' + str(imdb_data.shape))"
   ]
  },
  {
   "cell_type": "code",
   "execution_count": 70,
   "metadata": {},
   "outputs": [
    {
     "name": "stdout",
     "output_type": "stream",
     "text": [
      "Example of IMDB Movie Review:\n",
      "\n",
      "Probably my all-time favorite movie, a story of selflessness, sacrifice and dedication to a noble cause, but it's not preachy or boring. It just never gets old, despite my having seen it some 15 or more times in the last 25 years. Paul Lukas' performance brings tears to my eyes, and Bette Davis, in one of her very few truly sympathetic roles, is a delight. The kids are, as grandma says, more like \"dressed-up midgets\" than children, but that only makes them more fun to watch. And the mother's slow awakening to what's happening in the world and under her own roof is believable and startling. If I had a dozen thumbs, they'd all be \"up\" for this movie.\n",
      "\n",
      "This is an example of a positive movie review.\n"
     ]
    }
   ],
   "source": [
    "print('Example of IMDB Movie Review:' + '\\n')\n",
    "print(imdb_data.iloc[5,0] + '\\n')\n",
    "\n",
    "print('This is an example of a ' + str(imdb_data.iloc[5,1]) + ' movie review.')"
   ]
  },
  {
   "cell_type": "markdown",
   "metadata": {},
   "source": [
    "$\\textit{Remarks: }$\n",
    "\n",
    "Above is an example of a movie review with its respective label. Reading the movie review, we can conclude that it is a positive movie review. Below, we will be changing the categorical labels to binary labels, which is 1 for positive and 0 for negative.\n",
    "\n",
    "<br>"
   ]
  },
  {
   "cell_type": "code",
   "execution_count": 71,
   "metadata": {},
   "outputs": [],
   "source": [
    "num_data = imdb_data.shape[0]\n",
    "\n",
    "labels = np.zeros(num_data)\n",
    "count = 0\n",
    "for data in imdb_data.sentiment:\n",
    "    if data == 'positive':\n",
    "        labels[count] = 1\n",
    "    count = count + 1"
   ]
  },
  {
   "cell_type": "code",
   "execution_count": 72,
   "metadata": {},
   "outputs": [
    {
     "name": "stdout",
     "output_type": "stream",
     "text": [
      "First Ten Labels of Dataset: [1. 1. 1. 0. 1. 1. 1. 0. 0. 1.]\n"
     ]
    }
   ],
   "source": [
    "print('First Ten Labels of Dataset: ' + str(labels[0:10]))"
   ]
  },
  {
   "cell_type": "markdown",
   "metadata": {},
   "source": [
    "$\\textit{Remarks: }$\n",
    "\n",
    "Above, we can verify that all the labels were correctly label encoded.\n",
    "\n",
    "For processing, we will use the $\\textit{Bag of Words}$ model. Every distinct word that appears across all of the reviews will be a feature. If there are k distinct words, every sample will have a vector for independent variables that is k dimensional. The value of each predictor will be the number of occurances of that word in a particular review. The CountVectorizer class reads through text data and returns a matrix of independent variables corresponding to the number of occurances of words. This coded below:\n",
    "\n",
    "<br>"
   ]
  },
  {
   "cell_type": "code",
   "execution_count": 73,
   "metadata": {},
   "outputs": [],
   "source": [
    "countVectorizer = CountVectorizer()\n",
    "bagOfWords = countVectorizer.fit_transform(imdb_data.review)"
   ]
  },
  {
   "cell_type": "code",
   "execution_count": 74,
   "metadata": {},
   "outputs": [
    {
     "name": "stdout",
     "output_type": "stream",
     "text": [
      "Number of Distinct Words: 102117\n"
     ]
    }
   ],
   "source": [
    "print('Number of Distinct Words: ' + str(bagOfWords.shape[1]))"
   ]
  },
  {
   "cell_type": "code",
   "execution_count": 75,
   "metadata": {},
   "outputs": [],
   "source": [
    "wordSums = bagOfWords.sum(0)\n",
    "wordSums.sort()\n",
    "summedWords = bagOfWords.sum(0)"
   ]
  },
  {
   "cell_type": "code",
   "execution_count": 77,
   "metadata": {},
   "outputs": [
    {
     "name": "stdout",
     "output_type": "stream",
     "text": [
      "Most commonly used words and their Number of Occurances: \n",
      "\n",
      "the 667933\n",
      "and 324358\n",
      "of 289406\n",
      "to 268119\n",
      "is 211068\n",
      "br 201954\n",
      "it 190828\n",
      "in 186767\n",
      "this 150994\n",
      "that 143870\n",
      "was 95606\n",
      "as 91751\n",
      "movie 87970\n",
      "for 87470\n",
      "with 87362\n",
      "but 83514\n",
      "film 79705\n",
      "you 69119\n",
      "on 68061\n",
      "not 60732\n"
     ]
    }
   ],
   "source": [
    "print('Most commonly used words and their Number of Occurances: ' + '\\n')\n",
    "for i in range(20):\n",
    "    print(countVectorizer.get_feature_names()[(int)(np.where(summedWords==wordSums[0,102116-i])[1])] + ' ' + str(wordSums[0,102116-i]))"
   ]
  },
  {
   "cell_type": "markdown",
   "metadata": {},
   "source": [
    "On the left, you can observe the most frequently used words across the whole dataset, along with the number of times they appear in the data. Below, we will be splitting the data into training and testing:\n",
    "\n",
    "<br>"
   ]
  },
  {
   "cell_type": "code",
   "execution_count": 78,
   "metadata": {},
   "outputs": [],
   "source": [
    "train_split = 40000\n",
    "test_split = 10000\n",
    "\n",
    "trainingBag = bagOfWords[:train_split]\n",
    "testBag = bagOfWords[train_split:train_split+test_split]\n",
    "trainingLabels = labels[:train_split]\n",
    "testLabels = labels[train_split:train_split+test_split]"
   ]
  },
  {
   "cell_type": "markdown",
   "metadata": {},
   "source": [
    "$\\textit{Remarks: }$\n",
    "\n",
    "For $\\textbf{Feature Learning}$:\n",
    "\n",
    "The CountVectorizer stores the features as a sparse matrix because the vast majority of the entries are zeros. That is because there is a feature for every distinct word that appears across all the movie reviews, so words that are unique and only appear in a few of the reviews will have all zero entries across almost all of the 50000 samples. Because the matrix is so sparse, PCA is not an effective dimensionality reduction method. However, we certainly do want to reduce the dimension somehow, because there are certainly some features that are very insignificant for our classification problem. Instead of PCA, we use Truncated SVD to reduce dimensions."
   ]
  },
  {
   "cell_type": "code",
   "execution_count": 80,
   "metadata": {},
   "outputs": [],
   "source": [
    "# using truncated SVD on the sparse matrix\n",
    "truncatedSVD = TruncatedSVD(n_components=1000)"
   ]
  },
  {
   "cell_type": "code",
   "execution_count": 81,
   "metadata": {},
   "outputs": [],
   "source": [
    "# recording the time it takes to perform SVD\n",
    "startTime = time.time()\n",
    "reducedFeatures = truncatedSVD.fit_transform(trainingBag)\n",
    "endTime = time.time()"
   ]
  },
  {
   "cell_type": "code",
   "execution_count": 84,
   "metadata": {},
   "outputs": [
    {
     "name": "stdout",
     "output_type": "stream",
     "text": [
      "Computation Time for SVD: 87.48479890823364 seconds\n",
      "\n",
      "Dimensions of Reduced Feature Matrix: (40000, 1000)\n"
     ]
    }
   ],
   "source": [
    "SVD_time = endTime-startTime\n",
    "print('Computation Time for SVD: ' + str(SVD_time) + ' seconds' + '\\n')\n",
    "\n",
    "print('Dimensions of Reduced Feature Matrix: ' + str(reducedFeatures.shape))"
   ]
  },
  {
   "cell_type": "markdown",
   "metadata": {},
   "source": [
    "We will also run the same dimensionality reduction transformation that was learned from the training set on the test set"
   ]
  },
  {
   "cell_type": "code",
   "execution_count": 85,
   "metadata": {},
   "outputs": [],
   "source": [
    "# SVD on testing data\n",
    "reducedFeaturesTest = truncatedSVD.transform(testBag)"
   ]
  },
  {
   "cell_type": "markdown",
   "metadata": {},
   "source": [
    "## Classification Using Gaussian Naive Bayes\n",
    "\n",
    "<br>\n",
    "\n",
    "$\\textbf{Author:}$ Manish Kewalramani\n",
    "\n",
    "For the first classification method, we decided to use the Gaussian Naive Bayes algorithm available on Scikit-Learn. Gaussian Naive Bayes assumes that all the conditional probabilities are Gaussian and independent. For example, let's say we had a dataset that was of class male or female, with attributes weight and height. The probability of weight given male would be independent from height given male.\n",
    "\n",
    "For more information on Gaussian Naive Bayes for Scikit-Learn: https://scikit-learn.org/stable/modules/generated/sklearn.naive_bayes.GaussianNB.html"
   ]
  },
  {
   "cell_type": "code",
   "execution_count": 86,
   "metadata": {},
   "outputs": [],
   "source": [
    "# setting up Gaussian Naive Bayes\n",
    "classifier1 = GaussianNB()\n",
    "startTime = time.time()\n",
    "classifier1.fit(reducedFeatures,trainingLabels)\n",
    "endTime = time.time()"
   ]
  },
  {
   "cell_type": "code",
   "execution_count": 87,
   "metadata": {},
   "outputs": [
    {
     "name": "stdout",
     "output_type": "stream",
     "text": [
      "Computation Time to Train Gaussian Naive Bayes: 0.7588191032409668 seconds\n"
     ]
    }
   ],
   "source": [
    "naive_bayes_training = endTime-startTime\n",
    "print('Computation Time to Train Gaussian Naive Bayes: ' + str(naive_bayes_training) + ' seconds')"
   ]
  },
  {
   "cell_type": "code",
   "execution_count": 88,
   "metadata": {},
   "outputs": [],
   "source": [
    "# performing 5-fold cross validation\n",
    "startTime = time.time()\n",
    "scores = cross_val_score(classifier1,reducedFeatures,trainingLabels,cv=5)\n",
    "endTime = time.time()"
   ]
  },
  {
   "cell_type": "code",
   "execution_count": 109,
   "metadata": {},
   "outputs": [
    {
     "name": "stdout",
     "output_type": "stream",
     "text": [
      "Scores for Cross Validation: [0.87864017 0.87301587 0.86925    0.87335917 0.87060883]\n",
      "Average Scores for Cross Validation: 0.8729748077988251\n",
      "\n",
      "Computation Time for Cross Validation: 25.113062143325806 seconds\n",
      "Total Computation Time for Gaussian Naive Bayes: 25.871881246566772\n"
     ]
    }
   ],
   "source": [
    "print('Scores for Cross Validation: ' + str(scores))\n",
    "print('Average Scores for Cross Validation: ' + str(np.mean(scores)) + '\\n')\n",
    "\n",
    "CV_naive_time = endTime - startTime\n",
    "print('Computation Time for Cross Validation: ' + str(CV_naive_time) + ' seconds')\n",
    "print('Total Computation Time for Gaussian Naive Bayes: ' + str(CV_naive_time + naive_bayes_training))"
   ]
  },
  {
   "cell_type": "code",
   "execution_count": 95,
   "metadata": {},
   "outputs": [],
   "source": [
    "# making predictions on test\n",
    "predictions = classifier1.predict(reducedFeaturesTest)"
   ]
  },
  {
   "cell_type": "code",
   "execution_count": 97,
   "metadata": {},
   "outputs": [],
   "source": [
    "numerrors = 0\n",
    "for i in range(len(testLabels)):\n",
    "    if predictions[i] != testLabels[i]:\n",
    "        numerrors += 1"
   ]
  },
  {
   "cell_type": "code",
   "execution_count": 99,
   "metadata": {},
   "outputs": [
    {
     "name": "stdout",
     "output_type": "stream",
     "text": [
      "Total Number of Errors from Testing: 4789\n",
      "Accuracy Rate from Test Dataset for Gaussian Naive Bayes: 0.5211\n",
      "\n",
      "Recall: 0.26143399241062515\n",
      "Precision: 0.5454166666666667\n",
      "F-Score: 0.3534494397191846\n"
     ]
    }
   ],
   "source": [
    "# comparing errors\n",
    "TP = 0\n",
    "TN = 0\n",
    "FP = 0\n",
    "FN = 0\n",
    "for i in range(len(testLabels)):\n",
    "    if predictions[i] == testLabels[i]:\n",
    "        if predictions[i] == 1:\n",
    "            TP +=1\n",
    "        else:\n",
    "            TN += 1\n",
    "    else:\n",
    "        if predictions[i] == 1:\n",
    "            FP += 1\n",
    "        else:\n",
    "            FN += 1\n",
    "\n",
    "        \n",
    "# printing the total number or errors\n",
    "print('Total Number of Errors from Testing: ' + str(numerrors))\n",
    "print('Accuracy Rate from Test Dataset for Gaussian Naive Bayes: ' + str(1-numerrors/len(testLabels)) + '\\n')\n",
    "\n",
    "recall = TP/(TP+FN)\n",
    "precision = TP/(TP+FP)\n",
    "print('Recall: ' + str(recall))\n",
    "print('Precision: ' + str(precision))\n",
    "print('F-Score: ' + str(2/((1/recall)+(1/precision))))"
   ]
  },
  {
   "cell_type": "markdown",
   "metadata": {},
   "source": [
    "$\\textit{Remarks: }$\n",
    "\n",
    "We can conclude that Gaussian Naive Bayes algorithm for this dataset is a very poor choice, as the F1-score is lower than 0.5 (worse than a coin flip). We can also observe that the accuracy rate from our test dataset was 0.5211, which is basically making random classification decisions.\n",
    "\n",
    "<br>\n",
    "\n",
    "## Classification Using Linear Discriminant Analysis (LDA)\n",
    "\n",
    "<br>\n",
    "\n",
    "$\\textbf{Author:}$ Soo Min Kwon\n",
    "\n",
    "Linear Discriminant Analysis, or LDA, has a closed-form solution and assumes that the conditional probability of our data is Gaussian with same mean and $\\textit{same}$ variance.\n",
    "\n",
    "For more information about LDA, refer to the link given in the Audio dataset.\n"
   ]
  },
  {
   "cell_type": "code",
   "execution_count": 100,
   "metadata": {},
   "outputs": [],
   "source": [
    "# training LDA classifier\n",
    "classifier2 = LDA()\n",
    "startTime = time.time()\n",
    "classifier2.fit(reducedFeatures,trainingLabels)\n",
    "endTime = time.time()"
   ]
  },
  {
   "cell_type": "code",
   "execution_count": 101,
   "metadata": {},
   "outputs": [
    {
     "name": "stdout",
     "output_type": "stream",
     "text": [
      "Computation Time for LDA Training: 6.454540967941284 seconds\n"
     ]
    }
   ],
   "source": [
    "# printing computation times for training for LDA\n",
    "\n",
    "LDA_train_time = endTime - startTime\n",
    "print('Computation Time for LDA Training: ' + str(LDA_train_time) + ' seconds')"
   ]
  },
  {
   "cell_type": "code",
   "execution_count": 102,
   "metadata": {},
   "outputs": [],
   "source": [
    "# performing 5-fold CV\n",
    "startTime = time.time()\n",
    "scores = cross_val_score(classifier2,reducedFeatures,trainingLabels,cv=5)\n",
    "endTime = time.time()"
   ]
  },
  {
   "cell_type": "code",
   "execution_count": 108,
   "metadata": {},
   "outputs": [
    {
     "name": "stdout",
     "output_type": "stream",
     "text": [
      "Computation Time for Cross Validation: 25.113062143325806 seconds\n",
      "Total Computation Time for LDA: 31.56760311126709 seconds\n",
      "\n",
      "Scores for 5-Fold Cross Validation: [0.87864017 0.87301587 0.86925    0.87335917 0.87060883]\n",
      "Average Scores for 5-Fold Cross Validation: 0.8729748077988251\n"
     ]
    }
   ],
   "source": [
    "LDA_CV_time = endTime-startTime\n",
    "\n",
    "print('Computation Time for Cross Validation: ' + str(LDA_CV_time) + ' seconds')\n",
    "print('Total Computation Time for LDA: ' + str(LDA_train_time + LDA_CV_time) + ' seconds' + '\\n')\n",
    "\n",
    "print('Scores for 5-Fold Cross Validation: ' + str(scores))\n",
    "print('Average Scores for 5-Fold Cross Validation: ' + str(np.mean(scores)))"
   ]
  },
  {
   "cell_type": "code",
   "execution_count": 105,
   "metadata": {},
   "outputs": [],
   "source": [
    "# making predictions\n",
    "predictions = classifier2.predict(reducedFeaturesTest)"
   ]
  },
  {
   "cell_type": "code",
   "execution_count": 106,
   "metadata": {},
   "outputs": [],
   "source": [
    "numerrors = 0\n",
    "for i in range(len(testLabels)):\n",
    "    if predictions[i] != testLabels[i]:\n",
    "        numerrors += 1"
   ]
  },
  {
   "cell_type": "code",
   "execution_count": 107,
   "metadata": {},
   "outputs": [
    {
     "name": "stdout",
     "output_type": "stream",
     "text": [
      "Total Number of Errors from Testing: 1260\n",
      "Accuracy Rate from Test Dataset for LDA: 0.874\n",
      "\n",
      "Recall: 0.8875574196125424\n",
      "Precision: 0.8644232639564287\n",
      "F-Score: 0.8758376034686637\n"
     ]
    }
   ],
   "source": [
    "# comparing errors\n",
    "TP = 0\n",
    "TN = 0\n",
    "FP = 0\n",
    "FN = 0\n",
    "for i in range(len(testLabels)):\n",
    "    if predictions[i] == testLabels[i]:\n",
    "        if predictions[i] == 1:\n",
    "            TP +=1\n",
    "        else:\n",
    "            TN += 1\n",
    "    else:\n",
    "        if predictions[i] == 1:\n",
    "            FP += 1\n",
    "        else:\n",
    "            FN += 1\n",
    "\n",
    "        \n",
    "# printing the total number or errors\n",
    "print('Total Number of Errors from Testing: ' + str(numerrors))\n",
    "print('Accuracy Rate from Test Dataset for LDA: ' + str(1-numerrors/len(testLabels)) + '\\n')\n",
    "\n",
    "recall = TP/(TP+FN)\n",
    "precision = TP/(TP+FP)\n",
    "print('Recall: ' + str(recall))\n",
    "print('Precision: ' + str(precision))\n",
    "print('F-Score: ' + str(2/((1/recall)+(1/precision))))"
   ]
  },
  {
   "cell_type": "markdown",
   "metadata": {},
   "source": [
    "$\\textit{Remarks: }$\n",
    "\n",
    "Above, we can observe the accuracy on the test dataset, which was approximately $87\\%$, much higher than that of the accuracy rate of Gaussian Naive Bayes. This is to be expected because having indepdent conditional probabilities (assumption in Gaussian Naive Bayes) is a pretty 'naive' assumption. We can also see that the recall, precision, and F1-score for LDA was also high, much better than the results from the previous algorithm.\n",
    "\n",
    "<br>\n",
    "\n",
    "## Classification Using Quadratic Discriminant Analysis (QDA)\n",
    "\n",
    "<br>\n",
    "\n",
    "$\\textbf{Author: }$ Brian Cheng\n",
    "\n",
    "<br>\n",
    "\n",
    "Quadratic Discriminant Analysis, or QDA, has a closed-form solution and assumes that the conditional probability of our data is Gaussian with same mean and $\\textit{different}$ variance.\n",
    "\n",
    "For more information about QDA, refer to the link given in the Audio dataset.\n",
    "\n",
    "<br>"
   ]
  },
  {
   "cell_type": "code",
   "execution_count": 110,
   "metadata": {},
   "outputs": [],
   "source": [
    "# using QDA\n",
    "classifier3 = QDA()\n",
    "startTime = time.time()\n",
    "classifier3.fit(reducedFeatures,trainingLabels)\n",
    "endTime = time.time()"
   ]
  },
  {
   "cell_type": "code",
   "execution_count": 112,
   "metadata": {},
   "outputs": [
    {
     "name": "stdout",
     "output_type": "stream",
     "text": [
      "Computation Time to Train QDA: 5.077404975891113 seconds\n"
     ]
    }
   ],
   "source": [
    "QDA_train_time = endTime-startTime\n",
    "print('Computation Time to Train QDA: ' + str(QDA_train_time) + ' seconds')"
   ]
  },
  {
   "cell_type": "code",
   "execution_count": 113,
   "metadata": {},
   "outputs": [],
   "source": [
    "# timing CV\n",
    "startTime = time.time()\n",
    "scores = cross_val_score(classifier3,reducedFeatures,trainingLabels,cv=5)\n",
    "endTime = time.time()"
   ]
  },
  {
   "cell_type": "code",
   "execution_count": 114,
   "metadata": {},
   "outputs": [
    {
     "name": "stdout",
     "output_type": "stream",
     "text": [
      "Computation Time for Cross Validation: 21.121999740600586 seconds\n",
      "Total Computation Time for QDA: 26.1994047164917 seconds\n",
      "\n",
      "Scores for 5-Fold Cross Validation: [0.69616298 0.68591426 0.699      0.69771221 0.69008626]\n",
      "Average Scores for 5-Fold Cross Validation: 0.6937751430308616\n"
     ]
    }
   ],
   "source": [
    "QDA_CV_time = endTime-startTime\n",
    "\n",
    "print('Computation Time for Cross Validation: ' + str(QDA_CV_time) + ' seconds')\n",
    "print('Total Computation Time for QDA: ' + str(QDA_train_time + QDA_CV_time) + ' seconds' + '\\n')\n",
    "\n",
    "print('Scores for 5-Fold Cross Validation: ' + str(scores))\n",
    "print('Average Scores for 5-Fold Cross Validation: ' + str(np.mean(scores)))"
   ]
  },
  {
   "cell_type": "code",
   "execution_count": 115,
   "metadata": {},
   "outputs": [],
   "source": [
    "# making predictions on testing\n",
    "predictions = classifier3.predict(reducedFeaturesTest)"
   ]
  },
  {
   "cell_type": "code",
   "execution_count": 116,
   "metadata": {},
   "outputs": [],
   "source": [
    "numerrors = 0\n",
    "for i in range(len(testLabels)):\n",
    "    if predictions[i] != testLabels[i]:\n",
    "        numerrors += 1"
   ]
  },
  {
   "cell_type": "code",
   "execution_count": 117,
   "metadata": {},
   "outputs": [
    {
     "name": "stdout",
     "output_type": "stream",
     "text": [
      "Total Number of Errors from Testing: 3193\n",
      "Accuracy Rate from Test Dataset for LDA: 0.6807000000000001\n",
      "\n",
      "Recall: 0.45336528859596564\n",
      "Precision: 0.8327219369038885\n",
      "F-Score: 0.5870942713047976\n"
     ]
    }
   ],
   "source": [
    "# comparing errors\n",
    "TP = 0\n",
    "TN = 0\n",
    "FP = 0\n",
    "FN = 0\n",
    "for i in range(len(testLabels)):\n",
    "    if predictions[i] == testLabels[i]:\n",
    "        if predictions[i] == 1:\n",
    "            TP +=1\n",
    "        else:\n",
    "            TN += 1\n",
    "    else:\n",
    "        if predictions[i] == 1:\n",
    "            FP += 1\n",
    "        else:\n",
    "            FN += 1\n",
    "\n",
    "        \n",
    "# printing the total number or errors\n",
    "print('Total Number of Errors from Testing: ' + str(numerrors))\n",
    "print('Accuracy Rate from Test Dataset for LDA: ' + str(1-numerrors/len(testLabels)) + '\\n')\n",
    "\n",
    "recall = TP/(TP+FN)\n",
    "precision = TP/(TP+FP)\n",
    "print('Recall: ' + str(recall))\n",
    "print('Precision: ' + str(precision))\n",
    "print('F-Score: ' + str(2/((1/recall)+(1/precision))))"
   ]
  },
  {
   "cell_type": "markdown",
   "metadata": {},
   "source": [
    "$\\textit{Remarks: }$\n",
    "\n",
    "Above, we can observe the accuracy on the test dataset, which was approximately $68\\%$, much higher than that of the accuracy rate of Gaussian Naive Bayes, but lower than that of LDA. We can also see that the recall, precision, and F1-score for LDA was higher than the Gaussian Naive Bayes values, but lower than QDA. Since the computation time was about the same as the others, we can conclude that LDA is more efficient than QDA in this case.\n",
    "\n",
    "<br>\n",
    "\n",
    "$\\textbf{Final Remarks:}$\n",
    "\n",
    "For future works, we can try different feature extraction methods to test using the same classification methods that we used in this Jupyter notebook. For all three methods that we implemented, the test accuracy significantly varied throughout the algorithms we used. Likewise, the precision, recall, and F1-scores varied as well. Below, we can observe the computation times:\n",
    "\n",
    "Computation Time for Gaussian Naive Bayes: 25.87 seconds\n",
    "\n",
    "Computation Time for LDA: 31.56 seconds\n",
    "\n",
    "Computation time for QDA: 26.19 seconds\n",
    "\n",
    "\n",
    "Overall, for production, we can conclude that LDA would be the best algorithm to use, as it achieves much higher accuracy and F1-scores, and does not have a significant change in computation times as the other algorithms we used."
   ]
  }
 ],
 "metadata": {
  "kernelspec": {
   "display_name": "Python 3",
   "language": "python",
   "name": "python3"
  },
  "language_info": {
   "codemirror_mode": {
    "name": "ipython",
    "version": 3
   },
   "file_extension": ".py",
   "mimetype": "text/x-python",
   "name": "python",
   "nbconvert_exporter": "python",
   "pygments_lexer": "ipython3",
   "version": "3.7.4"
  }
 },
 "nbformat": 4,
 "nbformat_minor": 4
}
